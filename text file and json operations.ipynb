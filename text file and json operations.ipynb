{
 "cells": [
  {
   "cell_type": "code",
   "execution_count": 5,
   "id": "1b6b27a2",
   "metadata": {},
   "outputs": [
    {
     "name": "stdout",
     "output_type": "stream",
     "text": [
      "  Unnamed: 0   x   y   z\n",
      "0       four  10  20  30\n",
      "1       five  40  50  60\n",
      "2        six  70  80  90\n",
      "['Unnamed: 0', 'x', 'y', 'z']\n",
      "3\n"
     ]
    }
   ],
   "source": [
    "import pandas as pd\n",
    "df=pd.read_excel(\"storage1.xlsx\")\n",
    "print(df)\n",
    "print(list(df))\n",
    "print(format(len(df)))"
   ]
  },
  {
   "cell_type": "code",
   "execution_count": 2,
   "id": "d016e876",
   "metadata": {},
   "outputs": [
    {
     "name": "stdout",
     "output_type": "stream",
     "text": [
      "one \n",
      "\n",
      "two \n",
      "\n",
      "three \n",
      "\n"
     ]
    }
   ],
   "source": [
    "f=open(\"data1.txt\",\"w\")\n",
    "f.write(\"one \\n\")\n",
    "f.write(\"two \\n\")\n",
    "f.write(\"three \\n\")\n",
    "f.close()\n",
    "a=open(\"data1.txt\",'r')\n",
    "print(a.readline())\n",
    "print(a.readline())\n",
    "print(a.readline())"
   ]
  },
  {
   "cell_type": "code",
   "execution_count": 6,
   "id": "6a312cdf",
   "metadata": {},
   "outputs": [
    {
     "name": "stdout",
     "output_type": "stream",
     "text": [
      "one \n",
      "two \n",
      "three \n",
      "Yuva.\n",
      "Sri.\n",
      "Yuva\n",
      "Sri\n",
      "Yuva \n",
      "Sri \n",
      "\n"
     ]
    }
   ],
   "source": [
    "b=open(\"data1.txt\",\"a\")\n",
    "b.write(\"Yuva \\n\")\n",
    "b.write(\"Sri \\n\")\n",
    "b.close\n",
    "c=open(\"data1.txt\",\"r\")\n",
    "print(c.read())\n",
    "c.close()"
   ]
  },
  {
   "cell_type": "code",
   "execution_count": null,
   "id": "9a89d040",
   "metadata": {},
   "outputs": [],
   "source": []
  }
 ],
 "metadata": {
  "kernelspec": {
   "display_name": "Python 3 (ipykernel)",
   "language": "python",
   "name": "python3"
  },
  "language_info": {
   "codemirror_mode": {
    "name": "ipython",
    "version": 3
   },
   "file_extension": ".py",
   "mimetype": "text/x-python",
   "name": "python",
   "nbconvert_exporter": "python",
   "pygments_lexer": "ipython3",
   "version": "3.9.12"
  }
 },
 "nbformat": 4,
 "nbformat_minor": 5
}
