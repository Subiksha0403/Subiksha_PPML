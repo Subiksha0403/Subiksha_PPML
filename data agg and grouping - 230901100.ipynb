{
 "cells": [
  {
   "cell_type": "code",
   "execution_count": 4,
   "id": "ccfefbea",
   "metadata": {},
   "outputs": [
    {
     "name": "stdout",
     "output_type": "stream",
     "text": [
      "\n",
      "Original Dataframe:\n",
      "       Name category  value  score\n",
      "0    Alice        A      1     95\n",
      "1      Bob        B      4     77\n",
      "2  Charlie        A      1     67\n",
      "3    Alice        B      2     99\n",
      "4      Bob        A      3     80\n",
      "5  Charlie        B      4     76\n"
     ]
    }
   ],
   "source": [
    "import numpy as np \n",
    "import pandas as pd \n",
    "df=pd.DataFrame({'Name':['Alice', 'Bob', 'Charlie', 'Alice', 'Bob', 'Charlie'], 'category':['A', 'B', 'A', 'B', 'A', 'B'], \n",
    "'value':np.random.randint(1, 5, size=6), \n",
    "'score':np.random.randint(60, 100, size=6) \n",
    "}) \n",
    "print(\"\\nOriginal Dataframe:\\n\",df) \n"
   ]
  },
  {
   "cell_type": "code",
   "execution_count": 5,
   "id": "25f250ac",
   "metadata": {},
   "outputs": [
    {
     "name": "stdout",
     "output_type": "stream",
     "text": [
      "\n",
      "Group by name and Aggregation with one column:\n",
      "       Name  value\n",
      "0    Alice      3\n",
      "1      Bob      7\n",
      "2  Charlie      5\n"
     ]
    }
   ],
   "source": [
    "#Data grouping and Aggregation: with one column sum \n",
    "df1=df.groupby(('Name'),as_index=False)['value'].sum() \n",
    "print(\"\\nGroup by name and Aggregation with one column:\\n\",df1) \n"
   ]
  },
  {
   "cell_type": "code",
   "execution_count": 6,
   "id": "e6cb6bbf",
   "metadata": {},
   "outputs": [
    {
     "name": "stdout",
     "output_type": "stream",
     "text": [
      "\n",
      "Group by name and Aggregation with two column:\n",
      "       Name  value  score\n",
      "0    Alice      3    194\n",
      "1      Bob      7    157\n",
      "2  Charlie      5    143\n"
     ]
    }
   ],
   "source": [
    "#Data grouping and Aggregation: with two column sum \n",
    "df2=df.groupby(('Name'),as_index=False)[['value','score']].sum() \n",
    "print(\"\\nGroup by name and Aggregation with two column:\\n\",df2) \n",
    "\n"
   ]
  },
  {
   "cell_type": "code",
   "execution_count": 7,
   "id": "d9e1520e",
   "metadata": {},
   "outputs": [
    {
     "name": "stdout",
     "output_type": "stream",
     "text": [
      "\n",
      "Group by name and Aggregation with one column using agg function:\n",
      "       Name  value\n",
      "0    Alice      3\n",
      "1      Bob      7\n",
      "2  Charlie      5\n"
     ]
    }
   ],
   "source": [
    "#Data grouping and Aggregation: with one column sum \n",
    "df3=df.groupby(('Name'),as_index=False)['value'].agg('sum') \n",
    "print(\"\\nGroup by name and Aggregation with one column using agg function:\\n\",df3) \n"
   ]
  },
  {
   "cell_type": "code",
   "execution_count": 8,
   "id": "44e162eb",
   "metadata": {},
   "outputs": [
    {
     "name": "stdout",
     "output_type": "stream",
     "text": [
      "\n",
      "Group by name and multiple Aggregation functions :\n",
      "         value              score      \n",
      "          sum mean min max   sum  mean\n",
      "Name                                  \n",
      "Alice       3  1.5   1   2   194  97.0\n",
      "Bob         7  3.5   3   4   157  78.5\n",
      "Charlie     5  2.5   1   4   143  71.5\n"
     ]
    }
   ],
   "source": [
    "#Group by 'Name' and calculate multiple aggregations \n",
    "df4 = df.groupby('Name').agg({ \n",
    "'value': ['sum', 'mean', 'min', 'max'], \n",
    "'score': ['sum', 'mean']}) \n",
    "print(\"\\nGroup by name and multiple Aggregation functions :\\n\", df4) \n"
   ]
  },
  {
   "cell_type": "code",
   "execution_count": 11,
   "id": "8f0ef242",
   "metadata": {},
   "outputs": [
    {
     "name": "stdout",
     "output_type": "stream",
     "text": [
      "\n",
      " Group and count:\n",
      "       Name  value\n",
      "0    Alice      2\n",
      "1      Bob      2\n",
      "2  Charlie      2\n"
     ]
    }
   ],
   "source": [
    "df5=df.groupby(('Name'),as_index=False)['value'].count()\n",
    "print(\"\\n Group and count:\\n\",df5)\n"
   ]
  },
  {
   "cell_type": "code",
   "execution_count": 13,
   "id": "2f650b4e",
   "metadata": {},
   "outputs": [
    {
     "name": "stdout",
     "output_type": "stream",
     "text": [
      "\n",
      " Group and count:\n",
      "          category  value  score\n",
      "Name                           \n",
      "Alice           2      2      2\n",
      "Bob             2      2      2\n",
      "Charlie         2      2      2\n"
     ]
    }
   ],
   "source": [
    "df6=df.groupby(('Name')).count()\n",
    "print(\"\\n Group and count:\\n\",df6)"
   ]
  },
  {
   "cell_type": "code",
   "execution_count": 14,
   "id": "76742588",
   "metadata": {},
   "outputs": [
    {
     "name": "stdout",
     "output_type": "stream",
     "text": [
      "\n",
      " Group and display from first:\n",
      "       Name  value\n",
      "0    Alice      1\n",
      "1      Bob      4\n",
      "2  Charlie      1\n"
     ]
    }
   ],
   "source": [
    "df7=df.groupby(('Name'),as_index=False)['value'].first()\n",
    "print(\"\\n Group and display from first:\\n\",df7)"
   ]
  },
  {
   "cell_type": "code",
   "execution_count": 15,
   "id": "1db1811f",
   "metadata": {},
   "outputs": [
    {
     "name": "stdout",
     "output_type": "stream",
     "text": [
      "\n",
      " Group and display from first:\n",
      "         category  value  score\n",
      "Name                          \n",
      "Alice          A      1     95\n",
      "Bob            B      4     77\n",
      "Charlie        A      1     67\n"
     ]
    }
   ],
   "source": [
    "df8=df.groupby(('Name')).first()\n",
    "print(\"\\n Group and display from first:\\n\",df8)"
   ]
  },
  {
   "cell_type": "code",
   "execution_count": 16,
   "id": "47e2d729",
   "metadata": {},
   "outputs": [
    {
     "name": "stdout",
     "output_type": "stream",
     "text": [
      "\n",
      " Group and display from first:\n",
      "         category  value  score\n",
      "Name                          \n",
      "Alice          B      2     99\n",
      "Bob            A      3     80\n",
      "Charlie        B      4     76\n"
     ]
    }
   ],
   "source": [
    "df9=df.groupby(('Name')).last()\n",
    "print(\"\\n Group and display from first:\\n\",df9)"
   ]
  },
  {
   "cell_type": "code",
   "execution_count": 17,
   "id": "8ddedff8",
   "metadata": {},
   "outputs": [
    {
     "name": "stdout",
     "output_type": "stream",
     "text": [
      "\n",
      " Group and display from first:\n",
      "         category  value  score\n",
      "Name                          \n",
      "Alice          B      2     99\n",
      "Bob            A      3     80\n",
      "Charlie        B      4     76\n"
     ]
    }
   ],
   "source": [
    "df10=df.groupby(('Name')).last()\n",
    "print(\"\\n Group and display from first:\\n\",df10)"
   ]
  },
  {
   "cell_type": "code",
   "execution_count": 18,
   "id": "c658fc4e",
   "metadata": {},
   "outputs": [
    {
     "name": "stdout",
     "output_type": "stream",
     "text": [
      "\n",
      " Group and display from first:\n",
      "       Name  size\n",
      "0    Alice     2\n",
      "1      Bob     2\n",
      "2  Charlie     2\n"
     ]
    }
   ],
   "source": [
    "df11=df.groupby(('Name'),as_index=False)['value'].size()\n",
    "print(\"\\n Group and display from first:\\n\",df11)"
   ]
  },
  {
   "cell_type": "code",
   "execution_count": 19,
   "id": "117f4485",
   "metadata": {},
   "outputs": [
    {
     "name": "stdout",
     "output_type": "stream",
     "text": [
      "\n",
      " Group and display from first:\n",
      " Name\n",
      "Alice      2\n",
      "Bob        2\n",
      "Charlie    2\n",
      "dtype: int64\n"
     ]
    }
   ],
   "source": [
    "df12=df.groupby(('Name')).size()\n",
    "print(\"\\n Group and display from first:\\n\",df12)"
   ]
  },
  {
   "cell_type": "code",
   "execution_count": null,
   "id": "aab4cd12",
   "metadata": {},
   "outputs": [],
   "source": []
  }
 ],
 "metadata": {
  "kernelspec": {
   "display_name": "Python 3 (ipykernel)",
   "language": "python",
   "name": "python3"
  },
  "language_info": {
   "codemirror_mode": {
    "name": "ipython",
    "version": 3
   },
   "file_extension": ".py",
   "mimetype": "text/x-python",
   "name": "python",
   "nbconvert_exporter": "python",
   "pygments_lexer": "ipython3",
   "version": "3.11.3"
  }
 },
 "nbformat": 4,
 "nbformat_minor": 5
}
