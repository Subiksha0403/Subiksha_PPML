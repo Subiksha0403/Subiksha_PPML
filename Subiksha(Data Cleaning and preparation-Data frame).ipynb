{
 "cells": [
  {
   "cell_type": "code",
   "execution_count": 1,
   "id": "023feaf2",
   "metadata": {},
   "outputs": [
    {
     "name": "stdout",
     "output_type": "stream",
     "text": [
      "original DataFrame with NaN\n",
      "         one       two     three\n",
      "a -0.497741  0.347258  1.552619\n",
      "b       NaN       NaN       NaN\n",
      "c -2.078770 -0.284722 -1.098599\n",
      "d  1.780095  2.301044  0.475062\n",
      "e       NaN       NaN       NaN\n",
      "f -0.031503  0.876705 -1.025194\n",
      "\n",
      "\n",
      "Dropped DataFrame \n",
      "         one       two     three\n",
      "a -0.497741  0.347258  1.552619\n",
      "c -2.078770 -0.284722 -1.098599\n",
      "d  1.780095  2.301044  0.475062\n",
      "f -0.031503  0.876705 -1.025194\n",
      "\n",
      "\n"
     ]
    }
   ],
   "source": [
    "import pandas as pd\n",
    "import numpy as np\n",
    "df=pd.DataFrame(np.random.randn(4,3),index=['a','c','d','f'],columns=['one','two','three'])\n",
    "df=df.reindex(['a','b','c','d','e','f'])\n",
    "print(\"original DataFrame with NaN\\n\",df)\n",
    "print(\"\\n\")\n",
    "print(\"Dropped DataFrame \\n\",df.dropna())\n",
    "print(\"\\n\")"
   ]
  },
  {
   "cell_type": "code",
   "execution_count": 2,
   "id": "d0af960c",
   "metadata": {},
   "outputs": [
    {
     "name": "stdout",
     "output_type": "stream",
     "text": [
      "original DataFrame :\n",
      "         one       two     three\n",
      "a  0.732436 -0.269249 -1.303723\n",
      "b       NaN       NaN       NaN\n",
      "c  0.379924 -0.675639 -0.091302\n",
      "\n",
      "\n",
      "NaN replaced with '0'\n",
      "         one       two     three\n",
      "a  0.732436 -0.269249 -1.303723\n",
      "b  0.000000  0.000000  0.000000\n",
      "c  0.379924 -0.675639 -0.091302\n",
      "\n",
      "\n"
     ]
    }
   ],
   "source": [
    "import pandas as pd\n",
    "import numpy as np\n",
    "df=pd.DataFrame(np.random.randn(4,3),index=['a','c','d','f'],columns=['one','two','three'])\n",
    "df=df.reindex(['a','b','c'])\n",
    "print(\"original DataFrame :\\n\",df)\n",
    "print(\"\\n\")\n",
    "print(\"NaN replaced with '0'\\n\",df.fillna(0))\n",
    "print(\"\\n\")"
   ]
  },
  {
   "cell_type": "code",
   "execution_count": 3,
   "id": "39304005",
   "metadata": {},
   "outputs": [
    {
     "name": "stdout",
     "output_type": "stream",
     "text": [
      "original DataFrame:\n",
      "    one  two\n",
      "0   10   60\n",
      "1   20   70\n",
      "2   80   80\n",
      "3   40    0\n",
      "4   50   10\n",
      "\n",
      " DataFrame with replaced values:\n",
      "\n",
      "   one  two\n",
      "0    5   60\n",
      "1   20   70\n",
      "2    3    3\n",
      "3   40    0\n",
      "4   50    5\n"
     ]
    }
   ],
   "source": [
    "df=pd.DataFrame({'one':[10,20,80,40,50],'two':[60,70,80,0,10]})\n",
    "\n",
    "print(\"original DataFrame:\\n\",df)\n",
    "print(\"\\n DataFrame with replaced values:\\n\")\n",
    "print(df.replace({10:5,80:3}))"
   ]
  },
  {
   "cell_type": "code",
   "execution_count": 4,
   "id": "a3189816",
   "metadata": {},
   "outputs": [
    {
     "name": "stdout",
     "output_type": "stream",
     "text": [
      "original DataFrame:\n",
      "         one       two     three\n",
      "a -1.599486 -2.691867  0.366941\n",
      "b       NaN       NaN       NaN\n",
      "c  0.250528  0.820778 -0.677943\n",
      "d -0.820584  0.997682  0.310058\n",
      "e       NaN       NaN       NaN\n",
      "f  1.812083  0.587580 -0.615520\n",
      "\n",
      " NaN.with True fill:\n",
      "\n",
      "a    False\n",
      "b     True\n",
      "c    False\n",
      "d    False\n",
      "e     True\n",
      "f    False\n",
      "Name: one, dtype: bool\n"
     ]
    }
   ],
   "source": [
    "df=pd.DataFrame(np.random.randn(4,3),index=['a','c','d','f'],columns=['one','two','three'])\n",
    "\n",
    "df=df.reindex(['a','b','c','d','e','f'])\n",
    "print(\"original DataFrame:\\n\",df)\n",
    "print(\"\\n NaN.with True fill:\\n\")\n",
    "print(df['one'].isnull())"
   ]
  },
  {
   "cell_type": "code",
   "execution_count": 5,
   "id": "b6bfdd2a",
   "metadata": {},
   "outputs": [
    {
     "name": "stdout",
     "output_type": "stream",
     "text": [
      "\n",
      " NaN-filled with Bachground values:\n",
      "\n",
      "        one       two     three\n",
      "a -1.599486 -2.691867  0.366941\n",
      "b  0.250528  0.820778 -0.677943\n",
      "c  0.250528  0.820778 -0.677943\n",
      "d -0.820584  0.997682  0.310058\n",
      "e  1.812083  0.587580 -0.615520\n",
      "f  1.812083  0.587580 -0.615520\n"
     ]
    }
   ],
   "source": [
    "print(\"\\n NaN-filled with Bachground values:\\n\")\n",
    "\n",
    "print(df.fillna(method='bfill'))"
   ]
  },
  {
   "cell_type": "code",
   "execution_count": 6,
   "id": "dae10bf4",
   "metadata": {},
   "outputs": [
    {
     "name": "stdout",
     "output_type": "stream",
     "text": [
      "        one       two     three\n",
      "a -1.599486 -2.691867  0.366941\n",
      "b  0.250528  0.820778 -0.677943\n",
      "c  0.250528  0.820778 -0.677943\n",
      "d -0.820584  0.997682  0.310058\n",
      "e  1.812083  0.587580 -0.615520\n",
      "f  1.812083  0.587580 -0.615520\n",
      "        one       two     three\n",
      "a -1.599486 -2.691867  0.366941\n",
      "b -1.599486 -2.691867  0.366941\n",
      "c  0.250528  0.820778 -0.677943\n",
      "d -0.820584  0.997682  0.310058\n",
      "e -0.820584  0.997682  0.310058\n",
      "f  1.812083  0.587580 -0.615520\n"
     ]
    }
   ],
   "source": [
    "print(df.bfill())\n",
    "print(df.ffill())"
   ]
  },
  {
   "cell_type": "code",
   "execution_count": null,
   "id": "b212557a",
   "metadata": {},
   "outputs": [],
   "source": []
  }
 ],
 "metadata": {
  "kernelspec": {
   "display_name": "Python 3 (ipykernel)",
   "language": "python",
   "name": "python3"
  },
  "language_info": {
   "codemirror_mode": {
    "name": "ipython",
    "version": 3
   },
   "file_extension": ".py",
   "mimetype": "text/x-python",
   "name": "python",
   "nbconvert_exporter": "python",
   "pygments_lexer": "ipython3",
   "version": "3.11.3"
  }
 },
 "nbformat": 4,
 "nbformat_minor": 5
}
