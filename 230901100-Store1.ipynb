{
 "cells": [
  {
   "cell_type": "code",
   "execution_count": 21,
   "id": "f1ab999f",
   "metadata": {},
   "outputs": [
    {
     "name": "stdout",
     "output_type": "stream",
     "text": [
      "       a  b  c\n",
      "one    1  2  3\n",
      "two    4  5  6\n",
      "three  7  8  9\n"
     ]
    }
   ],
   "source": [
    "import pandas as pd\n",
    "df = pd.DataFrame([[1, 2, 3], [4, 5, 6], [7, 8, 9]], index=['one', 'two', 'three'], columns=['a', 'b', 'c'])\n",
    "print(df)"
   ]
  },
  {
   "cell_type": "code",
   "execution_count": 47,
   "id": "7c8c3c24",
   "metadata": {},
   "outputs": [],
   "source": [
    "df.to_excel(\"storage1.xlsx\")\n",
    "df.to_excel(\"store2.xlsx\")"
   ]
  },
  {
   "cell_type": "code",
   "execution_count": 48,
   "id": "8442c785",
   "metadata": {},
   "outputs": [],
   "source": [
    "df = pd.DataFrame([[10, 20, 30], [40, 50, 60], [70, 80, 90]], index=['four', 'five', 'six'], columns=['x', 'y', 'z'])\n",
    "df.to_excel(\"storage1.xlsx\", sheet_name=\"sheet1\")"
   ]
  },
  {
   "cell_type": "code",
   "execution_count": 51,
   "id": "fd38ce54",
   "metadata": {},
   "outputs": [],
   "source": [
    "df = pd.DataFrame([[6, 7], [1, 2]], index=['a', 'b'], columns=['x', 'y'])\n",
    "df.to_excel(\"store2.xlsx\", sheet_name=\"sheet_1\")"
   ]
  },
  {
   "cell_type": "code",
   "execution_count": 54,
   "id": "1b965d98",
   "metadata": {},
   "outputs": [],
   "source": [
    "x = pd.read_excel(\"storage1.xlsx\")\n",
    "y = pd.read_excel(\"store2.xlsx\")\n",
    "z = pd.concat([x, y])\n",
    "z.to_excel(\"ss.xlsx\")"
   ]
  },
  {
   "cell_type": "code",
   "execution_count": 55,
   "id": "c8ae5d0e",
   "metadata": {},
   "outputs": [
    {
     "name": "stdout",
     "output_type": "stream",
     "text": [
      "  Unnamed: 0   x   y     z\n",
      "1          b   1   2   NaN\n",
      "0          a   6   7   NaN\n",
      "0       four  10  20  30.0\n",
      "1       five  40  50  60.0\n",
      "2        six  70  80  90.0\n"
     ]
    }
   ],
   "source": [
    "df=z.sort_values(['x'])\n",
    "print(df)\n",
    "df.to_excel(\"ss.xlsx\")"
   ]
  },
  {
   "cell_type": "code",
   "execution_count": 56,
   "id": "0ccc2a09",
   "metadata": {},
   "outputs": [
    {
     "name": "stdout",
     "output_type": "stream",
     "text": [
      "  Unnamed: 0   x   y     z\n",
      "1          b   1   2   NaN\n",
      "0          a   6   7   NaN\n",
      "0       four  10  20  30.0\n",
      "1       five  40  50  60.0\n",
      "2        six  70  80  90.0\n"
     ]
    }
   ],
   "source": [
    "df=z.sort_values([\"y\"])\n",
    "print(df)\n",
    "df.to_excel(\"ss.xlsx\")"
   ]
  },
  {
   "cell_type": "code",
   "execution_count": null,
   "id": "082cbaa3",
   "metadata": {},
   "outputs": [],
   "source": []
  }
 ],
 "metadata": {
  "kernelspec": {
   "display_name": "Python 3 (ipykernel)",
   "language": "python",
   "name": "python3"
  },
  "language_info": {
   "codemirror_mode": {
    "name": "ipython",
    "version": 3
   },
   "file_extension": ".py",
   "mimetype": "text/x-python",
   "name": "python",
   "nbconvert_exporter": "python",
   "pygments_lexer": "ipython3",
   "version": "3.9.12"
  }
 },
 "nbformat": 4,
 "nbformat_minor": 5
}
