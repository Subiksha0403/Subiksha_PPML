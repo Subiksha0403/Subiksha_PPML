{
 "cells": [
  {
   "cell_type": "code",
   "execution_count": 8,
   "id": "00d5eb0b",
   "metadata": {},
   "outputs": [
    {
     "name": "stdout",
     "output_type": "stream",
     "text": [
      "[[10 20 30]\n",
      " [50 80 70]]\n",
      "Array created: [[10 20 30]\n",
      " [50 80 70]]\n"
     ]
    }
   ],
   "source": [
    "import numpy as np\n",
    "a=np.array([[10,20,30],[50,80,70]])\n",
    "print(a)\n",
    "print(\"Array created:\",a)"
   ]
  },
  {
   "cell_type": "code",
   "execution_count": 10,
   "id": "3abe46b7",
   "metadata": {},
   "outputs": [
    {
     "name": "stdout",
     "output_type": "stream",
     "text": [
      "\n",
      " Array with all zeroes:\n",
      " [[0. 0. 0. 0. 0.]\n",
      " [0. 0. 0. 0. 0.]\n",
      " [0. 0. 0. 0. 0.]]\n"
     ]
    }
   ],
   "source": [
    "import numpy as np\n",
    "c=np.zeros((3,5))\n",
    "print(\"\\n Array with all zeroes:\\n\",c)"
   ]
  },
  {
   "cell_type": "code",
   "execution_count": 12,
   "id": "f76632e6",
   "metadata": {},
   "outputs": [
    {
     "name": "stdout",
     "output_type": "stream",
     "text": [
      "\n",
      "Random values:\n",
      " [[0.5666796  0.36835666 0.10936131]\n",
      " [0.20344922 0.09231759 0.14982569]\n",
      " [0.11118997 0.27729024 0.85905803]]\n"
     ]
    }
   ],
   "source": [
    "import numpy as np\n",
    "d=np.random.random((3,3))\n",
    "print(\"\\nRandom values:\\n\",d)"
   ]
  },
  {
   "cell_type": "code",
   "execution_count": 13,
   "id": "bff9600f",
   "metadata": {},
   "outputs": [
    {
     "name": "stdout",
     "output_type": "stream",
     "text": [
      "\n",
      " A sequence array with step5:\n",
      " [ 0  5 10 15 20 25 30 35]\n"
     ]
    }
   ],
   "source": [
    "import numpy as np\n",
    "e=np.arange(0,40,5)\n",
    "print(\"\\n A sequence array with step5:\\n\",e)"
   ]
  },
  {
   "cell_type": "code",
   "execution_count": 15,
   "id": "6bda9b47",
   "metadata": {},
   "outputs": [
    {
     "name": "stdout",
     "output_type": "stream",
     "text": [
      "[[7 7 7 7]\n",
      " [7 7 7 7]\n",
      " [7 7 7 7]]\n"
     ]
    }
   ],
   "source": [
    "import numpy as np\n",
    "f=np.full((3,4),(7))\n",
    "print(f)"
   ]
  },
  {
   "cell_type": "code",
   "execution_count": 18,
   "id": "e54f9c88",
   "metadata": {},
   "outputs": [
    {
     "name": "stdout",
     "output_type": "stream",
     "text": [
      "\n",
      " original array:\n",
      " [[ 1  2  3  4]\n",
      " [10 20 30 40]\n",
      " [11 22 33 44]]\n",
      "\n",
      " reshaped array:\n",
      " [[ 1  2  3]\n",
      " [ 4 10 20]\n",
      " [30 40 11]\n",
      " [22 33 44]]\n"
     ]
    }
   ],
   "source": [
    "arr=np.array(([1,2,3,4],[10,20,30,40],[11,22,33,44]))\n",
    "newarr=arr.reshape(4,3)\n",
    "print(\"\\n original array:\\n\",arr)\n",
    "print(\"\\n reshaped array:\\n\",newarr)"
   ]
  },
  {
   "cell_type": "code",
   "execution_count": 22,
   "id": "fc7c3478",
   "metadata": {},
   "outputs": [
    {
     "name": "stdout",
     "output_type": "stream",
     "text": [
      "\n",
      " converted array element:\n",
      " [[ 1.  2.  3.  4.]\n",
      " [10. 20. 30. 40.]\n",
      " [11. 22. 33. 44.]]\n",
      "converted array tpe: [[ 1.  2.  3.  4.]\n",
      " [10. 20. 30. 40.]\n",
      " [11. 22. 33. 44.]]\n"
     ]
    }
   ],
   "source": [
    "arr=np.array(([1,2,3,4],[10,20,30,40],[11,22,33,44]))\n",
    "newtype=arr.astype('f')\n",
    "print(\"\\n converted array element:\\n\",newtype)\n",
    "print(\"converted array tpe:\",newtype)"
   ]
  }
 ],
 "metadata": {
  "kernelspec": {
   "display_name": "Python 3 (ipykernel)",
   "language": "python",
   "name": "python3"
  },
  "language_info": {
   "codemirror_mode": {
    "name": "ipython",
    "version": 3
   },
   "file_extension": ".py",
   "mimetype": "text/x-python",
   "name": "python",
   "nbconvert_exporter": "python",
   "pygments_lexer": "ipython3",
   "version": "3.9.12"
  }
 },
 "nbformat": 4,
 "nbformat_minor": 5
}
