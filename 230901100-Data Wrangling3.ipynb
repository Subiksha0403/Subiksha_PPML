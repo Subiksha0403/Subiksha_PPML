{
 "cells": [
  {
   "cell_type": "code",
   "execution_count": 10,
   "id": "425209a7",
   "metadata": {
    "scrolled": true
   },
   "outputs": [
    {
     "name": "stdout",
     "output_type": "stream",
     "text": [
      "\n",
      " Removed duplicated rows:\n",
      "         Name  Roll no              E-mail\n",
      "0  Sri visha        9   visha09@gmail.com\n",
      "1        Lee       17     Lee44@gmail.com\n",
      "2       Ella       23    Elle17@gmail.com\n",
      "3      Steve       36   Steve23@gmail.com\n",
      "5     Maxine       29  Maxine29@gmail.com\n"
     ]
    }
   ],
   "source": [
    "import pandas as pd\n",
    "student_data={'Name':['Sri visha','Lee','Ella','Steve','Lucas','Maxine','Dustin','Michael','Nancy','Bavan'],'Roll no':[9,17,23,36,23,29,17,36,9,17],'E-mail':['visha09@gmail.com','Lee44@gmail.com','Elle17@gmail.com','Steve23@gmail.com','Lucas23@gmail.com','Maxine29@gmail.com','Dustin17@gmail.com','Michael36@gmail.com','Nancy09@gmail.com','Bavan17@gmail.com']}\n",
    "df=pd.DataFrame(student_data)\n",
    "non_duplicate=df[~df.duplicated('Roll no')]\n",
    "print(\"\\n Removed duplicated rows:\\n\",non_duplicate)"
   ]
  },
  {
   "cell_type": "code",
   "execution_count": 12,
   "id": "c056e5b2",
   "metadata": {},
   "outputs": [
    {
     "name": "stdout",
     "output_type": "stream",
     "text": [
      "\n",
      "Original DataFrame:\n",
      "        Brand  year  Sold\n",
      "0     Maruti  2010     6\n",
      "1     Maruti  2011     7\n",
      "2     Maruti  2012     8\n",
      "3    Hyundai  2011     3\n",
      "4    Hyundai  2013     5\n",
      "5     Toyota  2010     2\n",
      "6   Mahindra  2011     8\n",
      "7   Mahindra  2012     7\n",
      "8       Ford  2013     2\n",
      "9     Toyota  2010     4\n",
      "10      Ford  2011     6\n",
      "\n",
      "Group by year 2011:\n",
      "        Brand  year  Sold\n",
      "1     Maruti  2011     7\n",
      "3    Hyundai  2011     3\n",
      "6   Mahindra  2011     8\n",
      "10      Ford  2011     6\n"
     ]
    }
   ],
   "source": [
    "import pandas as pd\n",
    "\n",
    "car_selling_data = {\n",
    "    'Brand': ['Maruti', 'Maruti', 'Maruti', 'Hyundai', 'Hyundai', 'Toyota', 'Mahindra', 'Mahindra', 'Ford', 'Toyota', 'Ford'],\n",
    "    'year': [2010, 2011, 2012, 2011, 2013, 2010, 2011, 2012, 2013, 2010, 2011],\n",
    "    'Sold': [6, 7, 8, 3, 5, 2, 8, 7, 2, 4, 6]}\n",
    "\n",
    "df = pd.DataFrame(car_selling_data)\n",
    "print(\"\\nOriginal DataFrame:\\n\", df)\n",
    "\n",
    "grouped = df.groupby(\"year\")\n",
    "print(\"\\nGroup by year 2011:\\n\", grouped.get_group(2011))\n"
   ]
  },
  {
   "cell_type": "code",
   "execution_count": null,
   "id": "c7c9d6b7",
   "metadata": {},
   "outputs": [],
   "source": []
  }
 ],
 "metadata": {
  "kernelspec": {
   "display_name": "Python 3 (ipykernel)",
   "language": "python",
   "name": "python3"
  },
  "language_info": {
   "codemirror_mode": {
    "name": "ipython",
    "version": 3
   },
   "file_extension": ".py",
   "mimetype": "text/x-python",
   "name": "python",
   "nbconvert_exporter": "python",
   "pygments_lexer": "ipython3",
   "version": "3.9.12"
  }
 },
 "nbformat": 4,
 "nbformat_minor": 5
}
