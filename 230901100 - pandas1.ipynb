{
 "cells": [
  {
   "cell_type": "code",
   "execution_count": 3,
   "id": "78917e5e",
   "metadata": {},
   "outputs": [
    {
     "name": "stdout",
     "output_type": "stream",
     "text": [
      "Empty DataFrame\n",
      "Columns: []\n",
      "Index: []\n"
     ]
    }
   ],
   "source": [
    "import pandas as pd\n",
    "df=pd.DataFrame()\n",
    "print(df)"
   ]
  },
  {
   "cell_type": "code",
   "execution_count": 5,
   "id": "30099c10",
   "metadata": {},
   "outputs": [
    {
     "name": "stdout",
     "output_type": "stream",
     "text": [
      "\n",
      "Series to DataFrame\n",
      "\n",
      "        Exp  ID\n",
      "0  Dharshan  80\n",
      "1    Sudeep  90\n",
      "2      Sara  28\n",
      "3      Yash  57\n",
      "4      Ravi  49\n"
     ]
    }
   ],
   "source": [
    "import pandas as pd\n",
    "emp=pd.Series(['Dharshan','Sudeep','Sara','Yash','Ravi'])\n",
    "id=pd.Series([80,90,28,57,49])\n",
    "frame={'Exp':emp,'ID':id}\n",
    "result=pd.DataFrame(frame)\n",
    "print(\"\\nSeries to DataFrame\\n\")\n",
    "print(result)"
   ]
  },
  {
   "cell_type": "code",
   "execution_count": 10,
   "id": "2d4cc417",
   "metadata": {},
   "outputs": [
    {
     "name": "stdout",
     "output_type": "stream",
     "text": [
      "\n",
      " Extracting one column:\n",
      "\n",
      "0    Dharshan\n",
      "1      Sudeep\n",
      "2        Sara\n",
      "3        Yash\n",
      "4        Ravi\n",
      "Name: Exp, dtype: object\n"
     ]
    }
   ],
   "source": [
    "import pandas as pd\n",
    "emp=pd.Series(['Dharshan','Sudeep','Sara','Yash','Ravi'])\n",
    "id=pd.Series([80,90,28,57,49])\n",
    "frame={'Exp':emp,'ID':id}\n",
    "result=pd.DataFrame(frame)\n",
    "print(\"\\n Extracting one column:\\n\")\n",
    "print(result['Exp'])"
   ]
  },
  {
   "cell_type": "code",
   "execution_count": 12,
   "id": "d6ec6b28",
   "metadata": {},
   "outputs": [
    {
     "name": "stdout",
     "output_type": "stream",
     "text": [
      "\n",
      " Adding New column:\n",
      "\n",
      "        Exp  ID  age\n",
      "0  Dharshan  80   29\n",
      "1    Sudeep  90   30\n",
      "2      Sara  28   31\n",
      "3      Yash  57   33\n",
      "4      Ravi  89   28\n"
     ]
    }
   ],
   "source": [
    "import pandas as pd\n",
    "emp=pd.Series(['Dharshan','Sudeep','Sara','Yash','Ravi'])\n",
    "id=pd.Series([80,90,28,57,49])\n",
    "frame={'Exp':emp,'ID':id}\n",
    "result=pd.DataFrame(frame)\n",
    "print(\"\\n Adding New column:\\n\")\n",
    "result['ID']=pd.Series([80,90,28,57,89])\n",
    "result['age']=pd.Series([29,30,31,33,28])\n",
    "print(result)"
   ]
  },
  {
   "cell_type": "code",
   "execution_count": null,
   "id": "e7a7ec97",
   "metadata": {},
   "outputs": [],
   "source": []
  }
 ],
 "metadata": {
  "kernelspec": {
   "display_name": "Python 3 (ipykernel)",
   "language": "python",
   "name": "python3"
  },
  "language_info": {
   "codemirror_mode": {
    "name": "ipython",
    "version": 3
   },
   "file_extension": ".py",
   "mimetype": "text/x-python",
   "name": "python",
   "nbconvert_exporter": "python",
   "pygments_lexer": "ipython3",
   "version": "3.9.12"
  }
 },
 "nbformat": 4,
 "nbformat_minor": 5
}
