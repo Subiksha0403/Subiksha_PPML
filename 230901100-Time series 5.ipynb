{
 "cells": [
  {
   "cell_type": "code",
   "execution_count": 1,
   "id": "9f3b8ece",
   "metadata": {},
   "outputs": [
    {
     "name": "stdout",
     "output_type": "stream",
     "text": [
      "\n",
      "With this date object, create a series with datetime index:\n",
      " 2020-01-05    1.173752\n",
      "2020-01-10    0.369426\n",
      "2020-01-15    3.320027\n",
      "2020-01-20    0.078842\n",
      "2020-01-25   -0.689239\n",
      "dtype: float64\n"
     ]
    }
   ],
   "source": [
    "import pandas as pd\n",
    "import numpy as np\n",
    "from datetime import datetime\n",
    "dates = [datetime(2020,1,5),\n",
    " datetime(2020,1,10),\n",
    " datetime(2020,1,15),\n",
    " datetime(2020,1,20),\n",
    " datetime(2020,1,25)]\n",
    "ts = pd.Series(np.random.randn(5), index=dates)\n",
    "print(\"\\nWith this date object, create a series with datetime index:\\n\",ts)"
   ]
  },
  {
   "cell_type": "code",
   "execution_count": 2,
   "id": "0bd4ccac",
   "metadata": {},
   "outputs": [
    {
     "name": "stdout",
     "output_type": "stream",
     "text": [
      "\n",
      "Truncate method to truncate datetime series \n",
      " 2020-01-05    1.173752\n",
      "2020-01-10    0.369426\n",
      "2020-01-15    3.320027\n",
      "dtype: float64\n"
     ]
    }
   ],
   "source": [
    "res=ts.truncate(after=\"1/15/2020\")\n",
    "print(\"\\nTruncate method to truncate datetime series \\n\", res)"
   ]
  },
  {
   "cell_type": "code",
   "execution_count": 3,
   "id": "e2f7906b",
   "metadata": {},
   "outputs": [
    {
     "name": "stdout",
     "output_type": "stream",
     "text": [
      "\n",
      "Date range with day periods.\n",
      " DatetimeIndex(['2022-10-02', '2022-10-09', '2022-10-16', '2022-10-23',\n",
      "               '2022-10-30', '2022-11-06', '2022-11-13', '2022-11-20',\n",
      "               '2022-11-27', '2022-12-04'],\n",
      "              dtype='datetime64[ns]', freq='W-SUN')\n"
     ]
    }
   ],
   "source": [
    "da=pd.date_range(\"10/1/2022\", periods=10, freq=\"W-SUN\")\n",
    "print(\"\\nDate range with day periods.\\n\",da)"
   ]
  },
  {
   "cell_type": "code",
   "execution_count": 4,
   "id": "9a4fd534",
   "metadata": {},
   "outputs": [
    {
     "name": "stdout",
     "output_type": "stream",
     "text": [
      "\n",
      "Duplicate datetime index:\n",
      " 2020-01-01    0\n",
      "2020-01-02    1\n",
      "2020-01-02    2\n",
      "2020-01-02    3\n",
      "2020-01-03    4\n",
      "dtype: int32\n"
     ]
    }
   ],
   "source": [
    "date=pd.DatetimeIndex([\"1/1/2020\",\"1/2/2020\",\"1/2/2020\",\"1/2/2020\",\"1/3/2020\"])\n",
    "ts1=pd.Series(np.arange(5), index=date)\n",
    "print(\"\\nDuplicate datetime index:\\n\",ts1)"
   ]
  },
  {
   "cell_type": "code",
   "execution_count": 5,
   "id": "1d4dba07",
   "metadata": {},
   "outputs": [
    {
     "name": "stdout",
     "output_type": "stream",
     "text": [
      "\n",
      "Repeated date counts:\n",
      " 2020-01-01    1\n",
      "2020-01-02    3\n",
      "2020-01-03    1\n",
      "dtype: int64\n"
     ]
    }
   ],
   "source": [
    "group=ts1.groupby(level=0)\n",
    "print(\"\\nRepeated date counts:\\n\",group.count())"
   ]
  },
  {
   "cell_type": "code",
   "execution_count": 6,
   "id": "e198fb08",
   "metadata": {},
   "outputs": [
    {
     "name": "stdout",
     "output_type": "stream",
     "text": [
      "\n",
      "Multi-column DataFrame with datatime index:\n",
      "                    A         B         C         D\n",
      "2022-10-02  0.791105  1.391500  0.216834  1.709592\n",
      "2022-10-09  0.478283  1.351615  0.804371 -1.886898\n",
      "2022-10-16 -0.246424 -1.717346 -0.166948  0.098217\n",
      "2022-10-23  0.347634 -0.957254  0.190782  0.423659\n",
      "2022-10-30  2.275161 -1.619839 -0.066184 -0.346351\n",
      "2022-11-06  1.031195  0.385665  1.410239 -1.217995\n",
      "2022-11-13 -1.566826 -1.950623  0.152398  1.393087\n",
      "2022-11-20 -0.313416  1.529541  2.348342  0.545739\n",
      "2022-11-27  0.220300  0.555330 -0.321642  0.963373\n",
      "2022-12-04 -0.365344 -0.645704  2.614254 -0.235421\n"
     ]
    }
   ],
   "source": [
    "long_df=pd.DataFrame(np.random.randn(10,4),index=da,columns=list(\"ABCD\"))\n",
    "print(\"\\nMulti-column DataFrame with datatime index:\\n\",long_df)"
   ]
  },
  {
   "cell_type": "code",
   "execution_count": null,
   "id": "bb459370",
   "metadata": {},
   "outputs": [],
   "source": []
  }
 ],
 "metadata": {
  "kernelspec": {
   "display_name": "Python 3 (ipykernel)",
   "language": "python",
   "name": "python3"
  },
  "language_info": {
   "codemirror_mode": {
    "name": "ipython",
    "version": 3
   },
   "file_extension": ".py",
   "mimetype": "text/x-python",
   "name": "python",
   "nbconvert_exporter": "python",
   "pygments_lexer": "ipython3",
   "version": "3.11.3"
  }
 },
 "nbformat": 4,
 "nbformat_minor": 5
}
